{
 "cells": [
  {
   "cell_type": "markdown",
   "metadata": {},
   "source": [
    "# Import libraries"
   ]
  },
  {
   "cell_type": "code",
   "execution_count": 2,
   "metadata": {},
   "outputs": [],
   "source": [
    "import numpy as np\n",
    "import cv2"
   ]
  },
  {
   "cell_type": "code",
   "execution_count": 3,
   "metadata": {},
   "outputs": [],
   "source": [
    "cap = cv2.VideoCapture('camvideo.mp4') #Load the video"
   ]
  },
  {
   "cell_type": "code",
   "execution_count": null,
   "metadata": {},
   "outputs": [],
   "source": []
  },
  {
   "cell_type": "markdown",
   "metadata": {},
   "source": [
    "# First Step:  Take first frame of the video"
   ]
  },
  {
   "cell_type": "code",
   "execution_count": 4,
   "metadata": {},
   "outputs": [],
   "source": [
    "ret, frame = cap.read()"
   ]
  },
  {
   "cell_type": "code",
   "execution_count": 5,
   "metadata": {},
   "outputs": [],
   "source": [
    "#setup initial location of window\n",
    "x, y, width, height = 300, 200, 100, 50"
   ]
  },
  {
   "cell_type": "code",
   "execution_count": 6,
   "metadata": {},
   "outputs": [],
   "source": [
    "#define our track window variable\n",
    "track_window = (x, y, width, height)"
   ]
  },
  {
   "cell_type": "code",
   "execution_count": 7,
   "metadata": {},
   "outputs": [],
   "source": [
    "#set up the region of interest for tracking from the video frame\n",
    "roi = frame[y : y + height, x : x + width]"
   ]
  },
  {
   "cell_type": "code",
   "execution_count": null,
   "metadata": {},
   "outputs": [],
   "source": []
  },
  {
   "cell_type": "code",
   "execution_count": 8,
   "metadata": {},
   "outputs": [],
   "source": [
    "hsv_roi = cv2.cvtColor(roi, cv2.COLOR_BGR2HSV) #convert roi to hsv color space"
   ]
  },
  {
   "cell_type": "code",
   "execution_count": 9,
   "metadata": {},
   "outputs": [],
   "source": [
    "#we create a mask\n",
    "mask = cv2.inRange(hsv_roi, np.array((0., 60., 32.)), np.array((180., 255., 255)))"
   ]
  },
  {
   "cell_type": "code",
   "execution_count": 10,
   "metadata": {},
   "outputs": [],
   "source": [
    "#calculate our histogram value\n",
    "roi_hist = cv2.calcHist([hsv_roi], [0], mask, [180], [0, 180])"
   ]
  },
  {
   "cell_type": "code",
   "execution_count": 11,
   "metadata": {},
   "outputs": [
    {
     "data": {
      "text/plain": [
       "array([[  0.       ],\n",
       "       [  0.       ],\n",
       "       [  0.       ],\n",
       "       [  0.       ],\n",
       "       [  0.       ],\n",
       "       [  0.       ],\n",
       "       [  0.       ],\n",
       "       [  0.       ],\n",
       "       [  0.       ],\n",
       "       [  0.       ],\n",
       "       [  0.       ],\n",
       "       [  0.       ],\n",
       "       [  0.       ],\n",
       "       [  0.       ],\n",
       "       [  0.       ],\n",
       "       [  0.       ],\n",
       "       [  0.       ],\n",
       "       [  0.       ],\n",
       "       [  0.       ],\n",
       "       [  0.       ],\n",
       "       [  0.       ],\n",
       "       [  0.       ],\n",
       "       [  0.       ],\n",
       "       [  0.       ],\n",
       "       [  0.       ],\n",
       "       [  0.       ],\n",
       "       [  0.       ],\n",
       "       [  0.       ],\n",
       "       [  0.       ],\n",
       "       [  0.       ],\n",
       "       [  0.       ],\n",
       "       [  0.       ],\n",
       "       [  0.       ],\n",
       "       [  0.       ],\n",
       "       [  0.       ],\n",
       "       [  0.       ],\n",
       "       [  0.       ],\n",
       "       [  0.       ],\n",
       "       [  0.       ],\n",
       "       [  0.       ],\n",
       "       [  0.       ],\n",
       "       [  0.       ],\n",
       "       [  0.       ],\n",
       "       [  0.       ],\n",
       "       [  0.       ],\n",
       "       [  0.       ],\n",
       "       [  0.       ],\n",
       "       [  0.       ],\n",
       "       [  0.       ],\n",
       "       [  0.       ],\n",
       "       [  0.       ],\n",
       "       [  0.       ],\n",
       "       [  0.       ],\n",
       "       [  0.       ],\n",
       "       [  0.       ],\n",
       "       [  0.       ],\n",
       "       [  0.       ],\n",
       "       [  0.       ],\n",
       "       [  0.       ],\n",
       "       [  0.       ],\n",
       "       [  0.       ],\n",
       "       [  0.       ],\n",
       "       [  0.       ],\n",
       "       [  0.       ],\n",
       "       [  0.       ],\n",
       "       [  0.       ],\n",
       "       [  0.       ],\n",
       "       [  0.       ],\n",
       "       [  0.       ],\n",
       "       [  0.       ],\n",
       "       [  0.       ],\n",
       "       [  0.       ],\n",
       "       [  0.       ],\n",
       "       [  0.       ],\n",
       "       [  0.       ],\n",
       "       [  0.       ],\n",
       "       [  0.       ],\n",
       "       [  0.       ],\n",
       "       [  0.       ],\n",
       "       [  0.       ],\n",
       "       [  0.       ],\n",
       "       [  0.       ],\n",
       "       [  0.       ],\n",
       "       [  0.       ],\n",
       "       [  0.       ],\n",
       "       [  0.       ],\n",
       "       [  0.       ],\n",
       "       [  0.       ],\n",
       "       [  0.       ],\n",
       "       [  0.       ],\n",
       "       [  0.       ],\n",
       "       [  0.       ],\n",
       "       [  0.       ],\n",
       "       [  0.       ],\n",
       "       [  0.       ],\n",
       "       [  0.       ],\n",
       "       [  0.       ],\n",
       "       [  0.       ],\n",
       "       [  0.       ],\n",
       "       [255.       ],\n",
       "       [  0.       ],\n",
       "       [  0.       ],\n",
       "       [  7.6119404],\n",
       "       [  0.       ],\n",
       "       [  0.       ],\n",
       "       [  0.       ],\n",
       "       [  0.       ],\n",
       "       [  0.       ],\n",
       "       [  0.       ],\n",
       "       [  0.       ],\n",
       "       [  0.       ],\n",
       "       [  0.       ],\n",
       "       [  0.       ],\n",
       "       [  0.       ],\n",
       "       [  0.       ],\n",
       "       [  0.       ],\n",
       "       [  0.       ],\n",
       "       [  0.       ],\n",
       "       [  0.       ],\n",
       "       [  0.       ],\n",
       "       [  0.       ],\n",
       "       [  0.       ],\n",
       "       [  0.       ],\n",
       "       [  0.       ],\n",
       "       [  0.       ],\n",
       "       [  0.       ],\n",
       "       [  0.       ],\n",
       "       [  0.       ],\n",
       "       [  0.       ],\n",
       "       [  0.       ],\n",
       "       [  0.       ],\n",
       "       [  0.       ],\n",
       "       [  0.       ],\n",
       "       [  0.       ],\n",
       "       [  0.       ],\n",
       "       [  0.       ],\n",
       "       [  0.       ],\n",
       "       [  0.       ],\n",
       "       [  0.       ],\n",
       "       [  0.       ],\n",
       "       [  0.       ],\n",
       "       [  0.       ],\n",
       "       [  0.       ],\n",
       "       [  0.       ],\n",
       "       [  0.       ],\n",
       "       [  0.       ],\n",
       "       [  0.       ],\n",
       "       [  0.       ],\n",
       "       [  0.       ],\n",
       "       [  0.       ],\n",
       "       [  0.       ],\n",
       "       [  0.       ],\n",
       "       [  0.       ],\n",
       "       [  0.       ],\n",
       "       [  0.       ],\n",
       "       [  0.       ],\n",
       "       [  0.       ],\n",
       "       [  0.       ],\n",
       "       [  0.       ],\n",
       "       [  0.       ],\n",
       "       [  0.       ],\n",
       "       [  0.       ],\n",
       "       [  0.       ],\n",
       "       [  0.       ],\n",
       "       [  0.       ],\n",
       "       [  0.       ],\n",
       "       [  0.       ],\n",
       "       [  0.       ],\n",
       "       [  3.8059702],\n",
       "       [  0.       ],\n",
       "       [  0.       ],\n",
       "       [  0.       ],\n",
       "       [  0.       ],\n",
       "       [  0.       ],\n",
       "       [  0.       ],\n",
       "       [  0.       ],\n",
       "       [  0.       ],\n",
       "       [  0.       ],\n",
       "       [  0.       ],\n",
       "       [  0.       ]], dtype=float32)"
      ]
     },
     "execution_count": 11,
     "metadata": {},
     "output_type": "execute_result"
    }
   ],
   "source": [
    "#normalize our values\n",
    "cv2.normalize(roi_hist, roi_hist, 0, 255, cv2.NORM_MINMAX)"
   ]
  },
  {
   "cell_type": "code",
   "execution_count": 12,
   "metadata": {},
   "outputs": [],
   "source": [
    "#set up termination criteria\n",
    "term_crit = (cv2.TERM_CRITERIA_EPS | cv2.TERM_CRITERIA_COUNT, 10, 1)"
   ]
  },
  {
   "cell_type": "code",
   "execution_count": 13,
   "metadata": {},
   "outputs": [],
   "source": [
    "while(1):\n",
    "    ret, frame = cap.read()\n",
    "    if ret == True:\n",
    "        hsv = cv2.cvtColor(frame, cv2.COLOR_BGR2HSV)\n",
    "        dst = cv2.calcBackProject([hsv], [0], roi_hist, [0, 180], 1) #gets the back projected image\n",
    "        ret, track_window = cv2.meanShift(dst, track_window, term_crit)#apply mean shift to get the new location\n",
    "        \n",
    "        #Draw the window on image\n",
    "        x, y, w, h = track_window\n",
    "        final_image = cv2.rectangle(frame, (x, y), (x+w, y+h), 255, 3)\n",
    "        \n",
    "        cv2.imshow('dst', dst)\n",
    "        cv2.imshow('final_image', final_image)\n",
    "        k = cv2.waitKey(30) & 0xff\n",
    "        if k ==27:\n",
    "            break\n",
    "    else:\n",
    "        break"
   ]
  },
  {
   "cell_type": "markdown",
   "metadata": {},
   "source": [
    "# Cam shift Algorithm"
   ]
  },
  {
   "cell_type": "code",
   "execution_count": 1,
   "metadata": {},
   "outputs": [
    {
     "ename": "NameError",
     "evalue": "name 'cap' is not defined",
     "output_type": "error",
     "traceback": [
      "\u001b[1;31m---------------------------------------------------------------------------\u001b[0m",
      "\u001b[1;31mNameError\u001b[0m                                 Traceback (most recent call last)",
      "\u001b[1;32m<ipython-input-1-61b68719fcd2>\u001b[0m in \u001b[0;36m<module>\u001b[1;34m\u001b[0m\n\u001b[0;32m      1\u001b[0m \u001b[1;32mwhile\u001b[0m\u001b[1;33m(\u001b[0m\u001b[1;36m1\u001b[0m\u001b[1;33m)\u001b[0m\u001b[1;33m:\u001b[0m\u001b[1;33m\u001b[0m\u001b[1;33m\u001b[0m\u001b[0m\n\u001b[1;32m----> 2\u001b[1;33m     \u001b[0mret\u001b[0m\u001b[1;33m,\u001b[0m \u001b[0mframe\u001b[0m \u001b[1;33m=\u001b[0m \u001b[0mcap\u001b[0m\u001b[1;33m.\u001b[0m\u001b[0mread\u001b[0m\u001b[1;33m(\u001b[0m\u001b[1;33m)\u001b[0m\u001b[1;33m\u001b[0m\u001b[1;33m\u001b[0m\u001b[0m\n\u001b[0m\u001b[0;32m      3\u001b[0m     \u001b[1;32mif\u001b[0m \u001b[0mret\u001b[0m \u001b[1;33m==\u001b[0m \u001b[1;32mTrue\u001b[0m\u001b[1;33m:\u001b[0m\u001b[1;33m\u001b[0m\u001b[1;33m\u001b[0m\u001b[0m\n\u001b[0;32m      4\u001b[0m         \u001b[0mhsv\u001b[0m \u001b[1;33m=\u001b[0m \u001b[0mcv2\u001b[0m\u001b[1;33m.\u001b[0m\u001b[0mcvtColor\u001b[0m\u001b[1;33m(\u001b[0m\u001b[0mframe\u001b[0m\u001b[1;33m,\u001b[0m \u001b[0mcv2\u001b[0m\u001b[1;33m.\u001b[0m\u001b[0mCOLOR_BGR2HSV\u001b[0m\u001b[1;33m)\u001b[0m\u001b[1;33m\u001b[0m\u001b[1;33m\u001b[0m\u001b[0m\n\u001b[0;32m      5\u001b[0m         \u001b[0mdst\u001b[0m \u001b[1;33m=\u001b[0m \u001b[0mcv2\u001b[0m\u001b[1;33m.\u001b[0m\u001b[0mcalcBackProject\u001b[0m\u001b[1;33m(\u001b[0m\u001b[1;33m[\u001b[0m\u001b[0mhsv\u001b[0m\u001b[1;33m]\u001b[0m\u001b[1;33m,\u001b[0m \u001b[1;33m[\u001b[0m\u001b[1;36m0\u001b[0m\u001b[1;33m]\u001b[0m\u001b[1;33m,\u001b[0m \u001b[0mroi_hist\u001b[0m\u001b[1;33m,\u001b[0m \u001b[1;33m[\u001b[0m\u001b[1;36m0\u001b[0m\u001b[1;33m,\u001b[0m \u001b[1;36m180\u001b[0m\u001b[1;33m]\u001b[0m\u001b[1;33m,\u001b[0m \u001b[1;36m1\u001b[0m\u001b[1;33m)\u001b[0m \u001b[1;31m#gets the back projected image\u001b[0m\u001b[1;33m\u001b[0m\u001b[1;33m\u001b[0m\u001b[0m\n",
      "\u001b[1;31mNameError\u001b[0m: name 'cap' is not defined"
     ]
    }
   ],
   "source": [
    "while(1):\n",
    "    ret, frame = cap.read()\n",
    "    if ret == True:\n",
    "        hsv = cv2.cvtColor(frame, cv2.COLOR_BGR2HSV)\n",
    "        dst = cv2.calcBackProject([hsv], [0], roi_hist, [0, 180], 1) #gets the back projected image\n",
    "        ret, track_window = cv2.CamShift(dst, track_window, term_crit)#apply mean shift to get the new location\n",
    "        \n",
    "        #Draw the window on image\n",
    "        pts = cv2.boxPoints(ret) #get the box points from the ret variable\n",
    "        pts = np.int0(pts) #convert to integer\n",
    "        final_image = cv2.polylines(frame, [pts], True, (0, 255, 0), 2) #draws a rotated rectangle\n",
    "        \n",
    "        cv2.imshow('dst', dst)\n",
    "        cv2.imshow('final_image', final_image)\n",
    "        k = cv2.waitKey(30) & 0xff\n",
    "        if k ==27:\n",
    "            break\n",
    "    else:\n",
    "        break"
   ]
  },
  {
   "cell_type": "code",
   "execution_count": null,
   "metadata": {},
   "outputs": [],
   "source": []
  }
 ],
 "metadata": {
  "kernelspec": {
   "display_name": "Python 3",
   "language": "python",
   "name": "python3"
  },
  "language_info": {
   "codemirror_mode": {
    "name": "ipython",
    "version": 3
   },
   "file_extension": ".py",
   "mimetype": "text/x-python",
   "name": "python",
   "nbconvert_exporter": "python",
   "pygments_lexer": "ipython3",
   "version": "3.7.9"
  }
 },
 "nbformat": 4,
 "nbformat_minor": 4
}
